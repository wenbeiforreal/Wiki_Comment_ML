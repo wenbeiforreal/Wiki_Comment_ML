{
 "cells": [
  {
   "cell_type": "code",
   "execution_count": 141,
   "metadata": {},
   "outputs": [
    {
     "name": "stdout",
     "output_type": "stream",
     "text": [
      "rev_id\n",
      "37675     `-NEWLINE_TOKENThis is not ``creative``.  Thos...\n",
      "44816     `NEWLINE_TOKENNEWLINE_TOKEN:: the term ``stand...\n",
      "49851     NEWLINE_TOKENNEWLINE_TOKENTrue or false, the s...\n",
      "89320      Next, maybe you could work on being less cond...\n",
      "93890                  This page will need disambiguation. \n",
      "102817    NEWLINE_TOKEN-NEWLINE_TOKENNEWLINE_TOKENImport...\n",
      "103624    I removed the following:NEWLINE_TOKENNEWLINE_T...\n",
      "111032    `:If you ever claimed in a Judaic studies prog...\n",
      "120283    NEWLINE_TOKENNEWLINE_TOKENNEWLINE_TOKENMy apol...\n",
      "128532    `Someone wrote:NEWLINE_TOKENMore recognizable,...\n",
      "133562    NEWLINE_TOKENNEWLINE_TOKEN:Correct. Full biogr...\n",
      "138117    `NEWLINE_TOKENNEWLINE_TOKENCare should be take...\n",
      "155243    NEWLINE_TOKENNEWLINE_TOKEN:If I may butt in  I...\n",
      "177310    NEWLINE_TOKENNEWLINE_TOKENNEWLINE_TOKENOn my  ...\n",
      "192579    `NEWLINE_TOKENNEWLINE_TOKEN:<>>NEWLINE_TOKENNE...\n",
      "201190          gets far more tendentious yet.NEWLINE_TOKEN\n",
      "208009    `NEWLINE_TOKENNEWLINE_TOKENAs a person who has...\n",
      "249432    It's great that we've found a new source of fr...\n",
      "252031    NEWLINE_TOKENNEWLINE_TOKENNEWLINE_TOKENNEWLINE...\n",
      "268558    NEWLINE_TOKENNEWLINE_TOKENI'd like the concept...\n",
      "Name: comment, dtype: object\n",
      "rev_id\n",
      "37675      this is not creative those are the dictionary...\n",
      "44816       the term standard model is itself less npov ...\n",
      "49851     true or false the situation as of march 2002 w...\n",
      "89320     next maybe you could work on being less condes...\n",
      "93890                    this page will need disambiguation\n",
      "102817     important note for all sysops there is a bug ...\n",
      "103624    i removed the following all names of early pol...\n",
      "111032    if you ever claimed in a judaic studies progra...\n",
      "120283    my apologies im english i watch cricket i know...\n",
      "128532    someone wrote more recognizable perhaps is a t...\n",
      "133562    correct full biographical details will put dow...\n",
      "138117     care should be taken to distinguish when and ...\n",
      "155243    if i may butt in ive spent the last 14 hour fo...\n",
      "177310    on my you will find the apology that i owe you...\n",
      "192579      i fail to see the distinction who better tha...\n",
      "201190                        gets far more tendentious yet\n",
      "208009     as a person who has done some of this activit...\n",
      "249432    its great that weve found a new source of free...\n",
      "252031    no i really havent heard of either one at leas...\n",
      "268558    id like the concepts of microevolution and mac...\n",
      "Name: comment, dtype: object\n",
      "rev_id\n",
      "37675     this is not creative those are the dictionary ...\n",
      "44816     the term standard model is itself less npov th...\n",
      "49851     true or false the situation as of march 2002 w...\n",
      "89320     next maybe you could work on being less condes...\n",
      "93890                    this page will need disambiguation\n",
      "102817    important note for all sysops there is a bug i...\n",
      "103624    i removed the following all names of early pol...\n",
      "111032    if you ever claimed in a judaic studies progra...\n",
      "120283    my apologies im english i watch cricket i know...\n",
      "128532    someone wrote more recognizable perhaps is a t...\n",
      "133562    correct full biographical details will put dow...\n",
      "138117    care should be taken to distinguish when and i...\n",
      "155243    if i may butt in ive spent the last 14 hour fo...\n",
      "177310    on my you will find the apology that i owe you...\n",
      "192579    i fail to see the distinction who better than ...\n",
      "201190                        gets far more tendentious yet\n",
      "208009    as a person who has done some of this activity...\n",
      "249432    its great that weve found a new source of free...\n",
      "252031    no i really havent heard of either one at leas...\n",
      "268558    id like the concepts of microevolution and mac...\n",
      "Name: comment, dtype: object\n"
     ]
    }
   ],
   "source": [
    "import pandas as pd\n",
    "import re\n",
    "\n",
    "# download_file(ANNOTATED_COMMENTS_URL, 'attack_annotated_comments.tsv')\n",
    "comments = pd.read_csv('attack_annotated_comments.tsv', sep = '\\t', index_col = 0, encoding='ISO-8859-1')['comment']\n",
    "print(comments.head(20))\n",
    "comments = comments.apply(lambda x: x.replace(\"NEWLINE_TOKEN\", \" \"))\n",
    "comments = comments.apply(lambda x: x.replace(\"TAB_TOKEN\", \" \"))\n",
    "\n",
    "# transform into lowercase\n",
    "comments = comments.apply(lambda x: \" \".join(x.lower() for x in x.split()))\n",
    "# print(comments.head(20))\n",
    "\n",
    "# remove punctuations\n",
    "comments = comments.str.replace('[^\\w\\s]','')\n",
    "print(comments.head(20))\n",
    "\n",
    "# remove emoji, references: https://gist.github.com/slowkow/7a7f61f495e3dbb7e3d767f97bd7304b\n",
    "def remove_emoji(string):\n",
    "    emoji_pattern = re.compile(\"[\"\n",
    "                           u\"\\U0001F600-\\U0001F64F\"  # emoticons\n",
    "                           u\"\\U0001F300-\\U0001F5FF\"  # symbols & pictographs\n",
    "                           u\"\\U0001F680-\\U0001F6FF\"  # transport & map symbols\n",
    "                           u\"\\U0001F1E0-\\U0001F1FF\"  # flags (iOS)\n",
    "                           u\"\\U00002702-\\U000027B0\"\n",
    "                           u\"\\U000024C2-\\U0001F251\"\n",
    "                           \"]+\", flags=re.UNICODE)\n",
    "    return emoji_pattern.sub(r'', string)\n",
    "comments = comments.apply(lambda x: remove_emoji(x))\n",
    "\n",
    "# remove whitespace\n",
    "comments = comments.apply(lambda x: x.strip())\n",
    "print(comments.head(20))\n"
   ]
  },
  {
   "cell_type": "code",
   "execution_count": 127,
   "metadata": {
    "scrolled": false
   },
   "outputs": [
    {
     "name": "stdout",
     "output_type": "stream",
     "text": [
      "rev_id\n",
      "37675     False\n",
      "44816     False\n",
      "49851     False\n",
      "93890     False\n",
      "102817    False\n",
      "103624    False\n",
      "128532    False\n",
      "133562    False\n",
      "138117    False\n",
      "155243    False\n",
      "Name: attack, dtype: bool\n"
     ]
    },
    {
     "name": "stderr",
     "output_type": "stream",
     "text": [
      "<ipython-input-127-280d79eb3a65>:16: SettingWithCopyWarning: \n",
      "A value is trying to be set on a copy of a slice from a DataFrame.\n",
      "Try using .loc[row_indexer,col_indexer] = value instead\n",
      "\n",
      "See the caveats in the documentation: https://pandas.pydata.org/pandas-docs/stable/user_guide/indexing.html#returning-a-view-versus-a-copy\n",
      "  train_test['attack'] = labels\n"
     ]
    }
   ],
   "source": [
    "from sklearn.metrics import confusion_matrix\n",
    "from sklearn.pipeline import Pipeline\n",
    "from sklearn.feature_extraction.text import CountVectorizer\n",
    "from sklearn.feature_extraction.text import TfidfTransformer\n",
    "from sklearn.model_selection import KFold\n",
    "from sklearn.tree import DecisionTreeClassifier\n",
    "from sklearn import metrics\n",
    "\n",
    "aac = pd.read_csv('attack_annotated_comments.tsv', sep = '\\t', index_col = 0)\n",
    "annotations = pd.read_csv('attack_annotations.tsv',  sep = '\\t')\n",
    "\n",
    "labels = annotations.groupby('rev_id')['attack'].mean() > 0.5\n",
    "\n",
    "# read training and test sets\n",
    "train_test = aac.loc[aac['split'].isin(['train', 'test'])]\n",
    "train_test['attack'] = labels\n",
    "# print(train_test.head(50))\n",
    "\n",
    "# simple text classifier from the strawman code\n",
    "\n",
    "train_comments = train_test.query(\"split=='train'\")\n",
    "test_comments = train_test.query(\"split=='test'\")\n",
    "\n",
    "clf = Pipeline([\n",
    "    ('vect', CountVectorizer(max_features = 10000, ngram_range = (1,2))),\n",
    "    ('tfidf', TfidfTransformer(norm = 'l2')),\n",
    "    ('clf', DecisionTreeClassifier(random_state = 123)),\n",
    "])\n",
    "\n",
    "X = train_test['comment']\n",
    "y = train_test['attack']\n",
    "# print(y.head(10))"
   ]
  },
  {
   "cell_type": "code",
   "execution_count": null,
   "metadata": {},
   "outputs": [],
   "source": [
    "import numpy as np\n",
    "\n",
    "kfold = KFold(n_splits = 8, shuffle = True, random_state = 1)\n",
    "for train, test in kfold.split(train_test):\n",
    "    train_x, train_y, test_x, test_y = X.iloc[list(train)], y.iloc[list(train)], X.iloc[list(train)], y.iloc[list(train)]\n",
    "    print(np.shape(test_x))\n",
    "    print(np.shape(y))\n",
    "    clf = clf.fit(train_x, train_y)\n",
    "    print(\"TRAIN:\", train, \"TEST:\", test)"
   ]
  },
  {
   "cell_type": "code",
   "execution_count": 140,
   "metadata": {},
   "outputs": [
    {
     "name": "stdout",
     "output_type": "stream",
     "text": [
      "[[81389   480]\n",
      " [  541 10294]]\n"
     ]
    }
   ],
   "source": [
    "# adding confusion matrix\n",
    "cm = confusion_matrix(y, clf.predict(X))\n",
    "\n",
    "print(cm)"
   ]
  },
  {
   "cell_type": "code",
   "execution_count": 134,
   "metadata": {
    "scrolled": true
   },
   "outputs": [
    {
     "data": {
      "text/plain": [
       "92704"
      ]
     },
     "execution_count": 134,
     "metadata": {},
     "output_type": "execute_result"
    }
   ],
   "source": [
    "len(train_test)"
   ]
  }
 ],
 "metadata": {
  "kernelspec": {
   "display_name": "Python 3",
   "language": "python",
   "name": "python3"
  },
  "language_info": {
   "codemirror_mode": {
    "name": "ipython",
    "version": 3
   },
   "file_extension": ".py",
   "mimetype": "text/x-python",
   "name": "python",
   "nbconvert_exporter": "python",
   "pygments_lexer": "ipython3",
   "version": "3.8.5"
  }
 },
 "nbformat": 4,
 "nbformat_minor": 4
}
