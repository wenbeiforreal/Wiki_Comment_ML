{
 "cells": [
  {
   "cell_type": "code",
   "execution_count": 5,
   "metadata": {
    "scrolled": true
   },
   "outputs": [
    {
     "name": "stderr",
     "output_type": "stream",
     "text": [
      "<ipython-input-5-27443ef48c48>:39: SettingWithCopyWarning: \n",
      "A value is trying to be set on a copy of a slice from a DataFrame.\n",
      "Try using .loc[row_indexer,col_indexer] = value instead\n",
      "\n",
      "See the caveats in the documentation: https://pandas.pydata.org/pandas-docs/stable/user_guide/indexing.html#returning-a-view-versus-a-copy\n",
      "  train_test['attack'] = labels\n"
     ]
    }
   ],
   "source": [
    "import pandas as pd\n",
    "import re\n",
    "from sklearn.model_selection import train_test_split\n",
    "from sklearn.pipeline import Pipeline\n",
    "from sklearn.feature_extraction.text import CountVectorizer\n",
    "from sklearn.feature_extraction.text import TfidfTransformer\n",
    "from sklearn import metrics\n",
    "\n",
    "comments = pd.read_csv('attack_annotated_comments.tsv', sep = '\\t', index_col = 0, encoding='ISO-8859-1')\n",
    "comments['comment'] = comments['comment'].apply(lambda x: x.replace(\"NEWLINE_TOKEN\", \" \"))\n",
    "comments['comment'] = comments['comment'].apply(lambda x: x.replace(\"TAB_TOKEN\", \" \"))\n",
    "\n",
    "# transform into lowercase\n",
    "comments['comment'] = comments['comment'].apply(lambda x: \" \".join(x.lower() for x in x.split()))\n",
    "\n",
    "# remove punctuations\n",
    "comments['comment'] = comments['comment'].str.replace('[^\\w\\s]','')\n",
    "\n",
    "# remove emoji, references: https://gist.github.com/slowkow/7a7f61f495e3dbb7e3d767f97bd7304b\n",
    "def remove_emoji(string):\n",
    "    emoji_pattern = re.compile(\"[\"\n",
    "                           u\"\\U0001F600-\\U0001F64F\"  # emoticons\n",
    "                           u\"\\U0001F300-\\U0001F5FF\"  # symbols & pictographs\n",
    "                           u\"\\U0001F680-\\U0001F6FF\"  # transport & map symbols\n",
    "                           u\"\\U0001F1E0-\\U0001F1FF\"  # flags (iOS)\n",
    "                           u\"\\U00002702-\\U000027B0\"\n",
    "                           u\"\\U000024C2-\\U0001F251\"\n",
    "                           \"]+\", flags=re.UNICODE)\n",
    "    return emoji_pattern.sub(r'', string)\n",
    "comments['comment'] = comments['comment'].apply(lambda x: remove_emoji(x))\n",
    "\n",
    "# remove whitespace\n",
    "comments['comment'] = comments['comment'].apply(lambda x: x.strip())\n",
    "\n",
    "annotations = pd.read_csv('attack_annotations.tsv',  sep = '\\t')\n",
    "train_test = comments.loc[comments['split'].isin(['train', 'test'])]\n",
    "\n",
    "labels = annotations.groupby('rev_id')['attack'].mean() >= 0.25\n",
    "train_test['attack'] = labels\n",
    "\n",
    "\n",
    "X = train_test['comment'].head(1000)\n",
    "y = train_test['attack'].head(1000)\n",
    "\n",
    "X_train, X_test, y_train, y_test = train_test_split(X, y, test_size=0.25, random_state=123)"
   ]
  },
  {
   "cell_type": "code",
   "execution_count": 6,
   "metadata": {},
   "outputs": [],
   "source": [
    "from sklearn.ensemble import RandomForestClassifier\n",
    "\n",
    "clf = Pipeline([\n",
    "    ('vect', CountVectorizer(max_features = 10000, ngram_range = (1,2))),\n",
    "    ('tfidf', TfidfTransformer(norm = 'l2')),\n",
    "    ('forest', RandomForestClassifier()),\n",
    "])\n",
    "\n",
    "clf = clf.fit(X_train, y_train)"
   ]
  },
  {
   "cell_type": "code",
   "execution_count": 7,
   "metadata": {},
   "outputs": [],
   "source": [
    "test_comments = train_test.query(\"split=='test'\")\n",
    "\n",
    "y_pred = clf.predict(test_comments['comment'])"
   ]
  },
  {
   "cell_type": "code",
   "execution_count": 8,
   "metadata": {},
   "outputs": [
    {
     "name": "stdout",
     "output_type": "stream",
     "text": [
      "Accuracy_score:  0.7808697903184054\n",
      "              precision    recall  f1-score   support\n",
      "\n",
      "       False       0.78      1.00      0.88     18033\n",
      "        True       1.00      0.01      0.03      5145\n",
      "\n",
      "    accuracy                           0.78     23178\n",
      "   macro avg       0.89      0.51      0.45     23178\n",
      "weighted avg       0.83      0.78      0.69     23178\n",
      "\n"
     ]
    }
   ],
   "source": [
    "met = metrics.classification_report(test_comments['attack'], y_pred)\n",
    "\n",
    "accuracy = metrics.accuracy_score(test_comments['attack'], y_pred)\n",
    "\n",
    "print(\"Accuracy_score: \", accuracy)\n",
    "print(met)"
   ]
  }
 ],
 "metadata": {
  "kernelspec": {
   "display_name": "Python 3",
   "language": "python",
   "name": "python3"
  },
  "language_info": {
   "codemirror_mode": {
    "name": "ipython",
    "version": 3
   },
   "file_extension": ".py",
   "mimetype": "text/x-python",
   "name": "python",
   "nbconvert_exporter": "python",
   "pygments_lexer": "ipython3",
   "version": "3.8.5"
  }
 },
 "nbformat": 4,
 "nbformat_minor": 4
}
